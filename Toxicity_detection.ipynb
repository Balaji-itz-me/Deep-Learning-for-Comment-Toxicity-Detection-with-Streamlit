{
 "cells": [
  {
   "cell_type": "code",
   "execution_count": null,
   "metadata": {
    "id": "pOjjZO49qPdj"
   },
   "outputs": [],
   "source": [
    "import pandas as pd\n",
    "\n",
    "# Load the dataset\n",
    "df = pd.read_csv('/content/train (1).csv')"
   ]
  },
  {
   "cell_type": "code",
   "execution_count": null,
   "metadata": {
    "colab": {
     "base_uri": "https://localhost:8080/",
     "height": 223
    },
    "executionInfo": {
     "elapsed": 188,
     "status": "ok",
     "timestamp": 1750227316754,
     "user": {
      "displayName": "Balaji K",
      "userId": "06165258946999670925"
     },
     "user_tz": -330
    },
    "id": "3gLlj0u2rMOR",
    "outputId": "5fe7b3d3-dd92-44e7-dcea-de6d48b494dc"
   },
   "outputs": [],
   "source": [
    "# Show shape and first few rows\n",
    "print(\"Shape:\", df.shape)\n",
    "df.head()"
   ]
  },
  {
   "cell_type": "code",
   "execution_count": null,
   "metadata": {
    "colab": {
     "base_uri": "https://localhost:8080/"
    },
    "executionInfo": {
     "elapsed": 25038,
     "status": "ok",
     "timestamp": 1750521680854,
     "user": {
      "displayName": "Balaji K",
      "userId": "06165258946999670925"
     },
     "user_tz": -330
    },
    "id": "EGRP6VXNOFvW",
    "outputId": "03d215d4-3059-4aef-cd90-1448ad3102ee"
   },
   "outputs": [],
   "source": [
    "from google.colab import drive\n",
    "drive.mount('/content/drive',force_remount= True)"
   ]
  },
  {
   "cell_type": "code",
   "execution_count": null,
   "metadata": {
    "colab": {
     "base_uri": "https://localhost:8080/",
     "height": 112
    },
    "executionInfo": {
     "elapsed": 101,
     "status": "ok",
     "timestamp": 1750227355375,
     "user": {
      "displayName": "Balaji K",
      "userId": "06165258946999670925"
     },
     "user_tz": -330
    },
    "id": "CaZgvq3FrW4w",
    "outputId": "ec9f62fe-fbc5-42a1-9df7-20968068671c"
   },
   "outputs": [],
   "source": [
    "df.head(2)"
   ]
  },
  {
   "cell_type": "code",
   "execution_count": null,
   "metadata": {
    "colab": {
     "base_uri": "https://localhost:8080/"
    },
    "executionInfo": {
     "elapsed": 23,
     "status": "ok",
     "timestamp": 1750227393775,
     "user": {
      "displayName": "Balaji K",
      "userId": "06165258946999670925"
     },
     "user_tz": -330
    },
    "id": "syqDlu7RrgVe",
    "outputId": "00d45e46-4cc2-4740-dcdc-124947e6bce9"
   },
   "outputs": [],
   "source": [
    "df.shape"
   ]
  },
  {
   "cell_type": "code",
   "execution_count": null,
   "metadata": {
    "colab": {
     "base_uri": "https://localhost:8080/"
    },
    "executionInfo": {
     "elapsed": 12,
     "status": "ok",
     "timestamp": 1750227464724,
     "user": {
      "displayName": "Balaji K",
      "userId": "06165258946999670925"
     },
     "user_tz": -330
    },
    "id": "r3cfjks1roDV",
    "outputId": "b58db5c3-94cd-439c-f9e9-f1b6a58fa182"
   },
   "outputs": [],
   "source": [
    "# Check for missing values\n",
    "print(df.isnull().sum())"
   ]
  },
  {
   "cell_type": "code",
   "execution_count": null,
   "metadata": {
    "colab": {
     "base_uri": "https://localhost:8080/"
    },
    "executionInfo": {
     "elapsed": 12,
     "status": "ok",
     "timestamp": 1750227498923,
     "user": {
      "displayName": "Balaji K",
      "userId": "06165258946999670925"
     },
     "user_tz": -330
    },
    "id": "vwV5yZRcr7Cz",
    "outputId": "c4735f64-00f9-4d56-8577-f9c8bf9c4b43"
   },
   "outputs": [],
   "source": [
    "# Check label distribution\n",
    "label_cols = ['toxic', 'severe_toxic', 'obscene', 'threat', 'insult', 'identity_hate']\n",
    "print(df[label_cols].sum())"
   ]
  },
  {
   "cell_type": "markdown",
   "metadata": {
    "id": "J5XWOOO3t-Mj"
   },
   "source": [
    " ## Takeaways:\n",
    "\n",
    "Highly imbalanced data — majority of comments are non-toxic (approx 90%)\n",
    "\n",
    "The ‘threat’ and ‘identity_hate’ categories are especially rare\n",
    "\n",
    "Toxic is the most common toxic label and will be good as a starting point if doing binary classification first (toxic vs. not)"
   ]
  },
  {
   "cell_type": "code",
   "execution_count": null,
   "metadata": {
    "colab": {
     "base_uri": "https://localhost:8080/"
    },
    "executionInfo": {
     "elapsed": 12,
     "status": "ok",
     "timestamp": 1750227531457,
     "user": {
      "displayName": "Balaji K",
      "userId": "06165258946999670925"
     },
     "user_tz": -330
    },
    "id": "ioxoGyxnsDYu",
    "outputId": "2015b6e4-eb59-4bb7-9417-7284285c8c06"
   },
   "outputs": [],
   "source": [
    "# Example of a toxic comment\n",
    "print(\"\\nSample toxic comment:\")\n",
    "print(df[df['toxic'] == 1]['comment_text'].values[0])"
   ]
  },
  {
   "cell_type": "code",
   "execution_count": null,
   "metadata": {
    "colab": {
     "base_uri": "https://localhost:8080/"
    },
    "executionInfo": {
     "elapsed": 4820,
     "status": "ok",
     "timestamp": 1750228110460,
     "user": {
      "displayName": "Balaji K",
      "userId": "06165258946999670925"
     },
     "user_tz": -330
    },
    "id": "ol1BR8HnsLV0",
    "outputId": "198c231e-3b81-46a7-9bba-9a5d685fca46"
   },
   "outputs": [],
   "source": [
    "import nltk\n",
    "import re\n",
    "import string\n",
    "from nltk.corpus import stopwords\n",
    "nltk.download('stopwords')\n"
   ]
  },
  {
   "cell_type": "code",
   "execution_count": null,
   "metadata": {
    "id": "iwDmqmB4uXhj"
   },
   "outputs": [],
   "source": [
    "STOPWORDS = set(stopwords.words('english'))\n",
    "\n",
    "def clean_text(text):\n",
    "    # Lowercase\n",
    "    text = text.lower()\n",
    "    # Remove line breaks and tabs\n",
    "    text = re.sub(r'\\n|\\r|\\t', ' ', text)\n",
    "    # Remove URLs\n",
    "    text = re.sub(r\"http\\S+|www\\S+|https\\S+\", '', text, flags=re.MULTILINE)\n",
    "    # Remove user mentions and hashtags\n",
    "    text = re.sub(r'\\@\\w+|\\#','', text)\n",
    "    # Remove punctuations and numbers\n",
    "    text = re.sub(r'[^a-zA-Z\\s]', '', text)\n",
    "    # Remove stopwords\n",
    "    tokens = text.split()\n",
    "    tokens = [word for word in tokens if word not in STOPWORDS]\n",
    "    return \" \".join(tokens)\n"
   ]
  },
  {
   "cell_type": "code",
   "execution_count": null,
   "metadata": {
    "colab": {
     "base_uri": "https://localhost:8080/"
    },
    "executionInfo": {
     "elapsed": 6491,
     "status": "ok",
     "timestamp": 1750228193813,
     "user": {
      "displayName": "Balaji K",
      "userId": "06165258946999670925"
     },
     "user_tz": -330
    },
    "id": "qGhgba45ulrV",
    "outputId": "8ebdae9a-c346-4634-a029-ce1f086d50f7"
   },
   "outputs": [],
   "source": [
    "df['cleaned_comment'] = df['comment_text'].apply(clean_text)\n",
    "\n",
    "# Show before & after\n",
    "for i in range(2):\n",
    "    print(\"\\nOriginal:\", df['comment_text'][i])\n",
    "    print(\"Cleaned :\", df['cleaned_comment'][i])\n"
   ]
  },
  {
   "cell_type": "code",
   "execution_count": null,
   "metadata": {
    "colab": {
     "base_uri": "https://localhost:8080/",
     "height": 293
    },
    "executionInfo": {
     "elapsed": 68,
     "status": "ok",
     "timestamp": 1750228248758,
     "user": {
      "displayName": "Balaji K",
      "userId": "06165258946999670925"
     },
     "user_tz": -330
    },
    "id": "FuIaIBgmureF",
    "outputId": "6a1546bb-bccf-45ba-ed07-84c74c5bdb95"
   },
   "outputs": [],
   "source": [
    "df.head()"
   ]
  },
  {
   "cell_type": "code",
   "execution_count": null,
   "metadata": {
    "id": "-nzMJTjLu6cl"
   },
   "outputs": [],
   "source": [
    "from tensorflow.keras.preprocessing.text import Tokenizer\n",
    "from tensorflow.keras.preprocessing.sequence import pad_sequences"
   ]
  },
  {
   "cell_type": "code",
   "execution_count": null,
   "metadata": {
    "id": "jHshG1M2wGBT"
   },
   "outputs": [],
   "source": [
    "# Parameters\n",
    "MAX_NUM_WORDS = 20000  # Only top 20,000 words will be kept\n",
    "MAX_SEQUENCE_LENGTH = 100  # Pad all sequences to 100 words"
   ]
  },
  {
   "cell_type": "code",
   "execution_count": null,
   "metadata": {
    "id": "4cwEWU8ewMq2"
   },
   "outputs": [],
   "source": [
    "# Initialize tokenizer\n",
    "tokenizer = Tokenizer(num_words=MAX_NUM_WORDS)\n",
    "tokenizer.fit_on_texts(df['cleaned_comment'])"
   ]
  },
  {
   "cell_type": "code",
   "execution_count": null,
   "metadata": {
    "id": "FwLzN_XPwPhL"
   },
   "outputs": [],
   "source": [
    "# Convert text to sequences\n",
    "sequences = tokenizer.texts_to_sequences(df['cleaned_comment'])"
   ]
  },
  {
   "cell_type": "code",
   "execution_count": null,
   "metadata": {
    "colab": {
     "base_uri": "https://localhost:8080/"
    },
    "executionInfo": {
     "elapsed": 666,
     "status": "ok",
     "timestamp": 1750228641812,
     "user": {
      "displayName": "Balaji K",
      "userId": "06165258946999670925"
     },
     "user_tz": -330
    },
    "id": "0Zq5nT1OwViQ",
    "outputId": "f7888e1e-f872-4b5b-9498-80038a210678"
   },
   "outputs": [],
   "source": [
    "# Pad sequences\n",
    "X = pad_sequences(sequences, maxlen=MAX_SEQUENCE_LENGTH)\n",
    "\n",
    "print(\"Tokenized and padded shape:\", X.shape)"
   ]
  },
  {
   "cell_type": "code",
   "execution_count": null,
   "metadata": {
    "colab": {
     "base_uri": "https://localhost:8080/",
     "height": 147
    },
    "executionInfo": {
     "elapsed": 19,
     "status": "ok",
     "timestamp": 1750228656680,
     "user": {
      "displayName": "Balaji K",
      "userId": "06165258946999670925"
     },
     "user_tz": -330
    },
    "id": "_j4oIw_awaQF",
    "outputId": "e1b63174-9c69-4298-caee-48d6fd7e8bdf"
   },
   "outputs": [],
   "source": [
    "df.head(2)"
   ]
  },
  {
   "cell_type": "markdown",
   "metadata": {
    "id": "Ubx-Yl9gwxmO"
   },
   "source": [
    "## Define the Target Variable\n",
    "Start with binary classification (toxic vs. non-toxic), then extend to multi-label later."
   ]
  },
  {
   "cell_type": "code",
   "execution_count": null,
   "metadata": {
    "id": "_9LY8Ay2weCi"
   },
   "outputs": [],
   "source": [
    "y = df['toxic'].values  # Binary target\n"
   ]
  },
  {
   "cell_type": "markdown",
   "metadata": {
    "id": "nzvx2TDcw6tR"
   },
   "source": [
    "##  Train-Test Split"
   ]
  },
  {
   "cell_type": "code",
   "execution_count": null,
   "metadata": {
    "colab": {
     "base_uri": "https://localhost:8080/"
    },
    "executionInfo": {
     "elapsed": 173,
     "status": "ok",
     "timestamp": 1750228802992,
     "user": {
      "displayName": "Balaji K",
      "userId": "06165258946999670925"
     },
     "user_tz": -330
    },
    "id": "v1euOOwDw2Nq",
    "outputId": "245df6cd-23d4-44d4-ca3e-ff6eb610f1ff"
   },
   "outputs": [],
   "source": [
    "from sklearn.model_selection import train_test_split\n",
    "\n",
    "X_train, X_val, y_train, y_val = train_test_split(\n",
    "    X, y, test_size=0.3, random_state=42, stratify=y\n",
    ")\n",
    "\n",
    "print(\"Train shape:\", X_train.shape, \"Validation shape:\", X_val.shape)\n"
   ]
  },
  {
   "cell_type": "code",
   "execution_count": null,
   "metadata": {
    "id": "tVk-Gs48xBvI"
   },
   "outputs": [],
   "source": [
    "from tensorflow.keras.models import Sequential\n",
    "from tensorflow.keras.layers import Embedding, LSTM, Dense, Dropout\n",
    "from tensorflow.keras.optimizers import Adam\n",
    "from tensorflow.keras.callbacks import EarlyStopping\n"
   ]
  },
  {
   "cell_type": "code",
   "execution_count": null,
   "metadata": {
    "colab": {
     "base_uri": "https://localhost:8080/",
     "height": 356
    },
    "executionInfo": {
     "elapsed": 213,
     "status": "ok",
     "timestamp": 1750229231236,
     "user": {
      "displayName": "Balaji K",
      "userId": "06165258946999670925"
     },
     "user_tz": -330
    },
    "id": "JH4duNENxeDP",
    "outputId": "de748e73-e717-4f3a-82ce-6af29e8e0315"
   },
   "outputs": [],
   "source": [
    "VOCAB_SIZE = 20000  # Same as MAX_NUM_WORDS\n",
    "EMBEDDING_DIM = 128\n",
    "SEQUENCE_LENGTH = 100\n",
    "\n",
    "model = Sequential([\n",
    "    Embedding(input_dim=VOCAB_SIZE, output_dim=EMBEDDING_DIM, input_length=SEQUENCE_LENGTH),\n",
    "    LSTM(64, return_sequences=False),\n",
    "    Dropout(0.5),\n",
    "    Dense(64, activation='relu'),\n",
    "    Dropout(0.3),\n",
    "    Dense(1, activation='sigmoid')  # Binary classification\n",
    "])\n",
    "\n",
    "model.compile(loss='binary_crossentropy', optimizer=Adam(1e-3), metrics=['accuracy'])\n",
    "model.summary()\n"
   ]
  },
  {
   "cell_type": "code",
   "execution_count": null,
   "metadata": {
    "colab": {
     "base_uri": "https://localhost:8080/"
    },
    "executionInfo": {
     "elapsed": 14,
     "status": "ok",
     "timestamp": 1750229256746,
     "user": {
      "displayName": "Balaji K",
      "userId": "06165258946999670925"
     },
     "user_tz": -330
    },
    "id": "Ua1C1i_eyqRt",
    "outputId": "04f5e9be-c13f-4e06-8f25-d0cde41b1cc4"
   },
   "outputs": [],
   "source": [
    "from sklearn.utils.class_weight import compute_class_weight\n",
    "import numpy as np\n",
    "\n",
    "class_weights = compute_class_weight(class_weight='balanced', classes=np.unique(y_train), y=y_train)\n",
    "class_weight_dict = {0: class_weights[0], 1: class_weights[1]}\n",
    "\n",
    "print(\"Class weights:\", class_weight_dict)\n"
   ]
  },
  {
   "cell_type": "code",
   "execution_count": null,
   "metadata": {
    "colab": {
     "base_uri": "https://localhost:8080/"
    },
    "executionInfo": {
     "elapsed": 1264554,
     "status": "ok",
     "timestamp": 1750230544829,
     "user": {
      "displayName": "Balaji K",
      "userId": "06165258946999670925"
     },
     "user_tz": -330
    },
    "id": "ssFehISMywjE",
    "outputId": "29cb24fa-00eb-48a1-8091-7aff428dfcb9"
   },
   "outputs": [],
   "source": [
    "early_stop = EarlyStopping(monitor='val_loss', patience=3, restore_best_weights=True)\n",
    "\n",
    "history = model.fit(\n",
    "    X_train, y_train,\n",
    "    epochs=5,\n",
    "    batch_size=128,\n",
    "    validation_data=(X_val, y_val),\n",
    "    class_weight=class_weight_dict,\n",
    "    callbacks=[early_stop]\n",
    ")\n"
   ]
  },
  {
   "cell_type": "code",
   "execution_count": null,
   "metadata": {
    "colab": {
     "base_uri": "https://localhost:8080/"
    },
    "executionInfo": {
     "elapsed": 42371,
     "status": "ok",
     "timestamp": 1750230602125,
     "user": {
      "displayName": "Balaji K",
      "userId": "06165258946999670925"
     },
     "user_tz": -330
    },
    "id": "wxNtrvGgy2TR",
    "outputId": "92f5d8df-fc3f-4ea3-f438-5a17600b7b03"
   },
   "outputs": [],
   "source": [
    "loss, acc = model.evaluate(X_val, y_val)\n",
    "print(f\"\\nValidation Accuracy: {acc:.4f}\")\n"
   ]
  },
  {
   "cell_type": "code",
   "execution_count": null,
   "metadata": {
    "colab": {
     "base_uri": "https://localhost:8080/"
    },
    "executionInfo": {
     "elapsed": 26098,
     "status": "ok",
     "timestamp": 1750332234659,
     "user": {
      "displayName": "Balaji K",
      "userId": "06165258946999670925"
     },
     "user_tz": -330
    },
    "id": "Qq9YMs1U3urf",
    "outputId": "4d97d131-9f7e-4584-edfc-1bdb5734ed4f"
   },
   "outputs": [],
   "source": [
    "from sklearn.metrics import classification_report, confusion_matrix\n",
    "\n",
    "# Predict probabilities\n",
    "y_pred_probs = model.predict(X_val)\n",
    "\n",
    "# Convert to binary labels\n",
    "y_pred = (y_pred_probs > 0.5).astype(int)\n"
   ]
  },
  {
   "cell_type": "code",
   "execution_count": null,
   "metadata": {
    "colab": {
     "base_uri": "https://localhost:8080/"
    },
    "executionInfo": {
     "elapsed": 28,
     "status": "ok",
     "timestamp": 1750332239414,
     "user": {
      "displayName": "Balaji K",
      "userId": "06165258946999670925"
     },
     "user_tz": -330
    },
    "id": "SfUeuKj_4A6p",
    "outputId": "a36c1561-31d9-47bc-b848-b6b8a534fc6d"
   },
   "outputs": [],
   "source": [
    "print(\"Classification Report:\\n\")\n",
    "print(classification_report(y_val, y_pred, target_names=[\"Non-Toxic\", \"Toxic\"]))\n"
   ]
  },
  {
   "cell_type": "markdown",
   "metadata": {
    "id": "ySi6UmT7PzcN"
   },
   "source": [
    "## Key Insights:\n",
    "✅ High recall for toxic (0.87): The model catches most toxic comments\n",
    "\n",
    "⚠️ Moderate precision for toxic (0.60): It sometimes wrongly flags clean comments\n",
    "\n",
    "✅ Excellent precision for non-toxic (0.98): It rarely mislabels clean comments\n",
    "\n",
    "📈 Weighted F1-score of 0.94 shows a balanced overall performance"
   ]
  },
  {
   "cell_type": "code",
   "execution_count": null,
   "metadata": {
    "colab": {
     "base_uri": "https://localhost:8080/",
     "height": 410
    },
    "executionInfo": {
     "elapsed": 4959,
     "status": "ok",
     "timestamp": 1750230732921,
     "user": {
      "displayName": "Balaji K",
      "userId": "06165258946999670925"
     },
     "user_tz": -330
    },
    "id": "kCd5JObp4Kfs",
    "outputId": "ff38ce17-feed-4c6d-91c6-7660b4162d25"
   },
   "outputs": [],
   "source": [
    "import seaborn as sns\n",
    "import matplotlib.pyplot as plt\n",
    "\n",
    "cm = confusion_matrix(y_val, y_pred)\n",
    "\n",
    "plt.figure(figsize=(5, 4))\n",
    "sns.heatmap(cm, annot=True, fmt='d', cmap='Blues',\n",
    "            xticklabels=[\"Non-Toxic\", \"Toxic\"],\n",
    "            yticklabels=[\"Non-Toxic\", \"Toxic\"])\n",
    "plt.xlabel('Predicted')\n",
    "plt.ylabel('Actual')\n",
    "plt.title('Confusion Matrix')\n",
    "plt.show()\n"
   ]
  },
  {
   "cell_type": "markdown",
   "metadata": {
    "id": "lUeuWJryPyUk"
   },
   "source": []
  },
  {
   "cell_type": "code",
   "execution_count": null,
   "metadata": {
    "id": "FOSH4pt74XvR"
   },
   "outputs": [],
   "source": [
    "df.to_csv(\"cleaned_data.csv\", index=False)\n"
   ]
  },
  {
   "cell_type": "code",
   "execution_count": null,
   "metadata": {
    "id": "PoLfvuQj61EC"
   },
   "outputs": [],
   "source": [
    "import pickle\n",
    "\n",
    "with open('tokenizer.pkl', 'wb') as f:\n",
    "    pickle.dump(tokenizer, f)\n"
   ]
  },
  {
   "cell_type": "code",
   "execution_count": null,
   "metadata": {
    "id": "VP5JGekO65ef"
   },
   "outputs": [],
   "source": [
    "np.save('X_train.npy', X_train)\n",
    "np.save('X_val.npy', X_val)\n",
    "np.save('y_train.npy', y_train)\n",
    "np.save('y_val.npy', y_val)\n"
   ]
  },
  {
   "cell_type": "code",
   "execution_count": null,
   "metadata": {
    "colab": {
     "base_uri": "https://localhost:8080/"
    },
    "executionInfo": {
     "elapsed": 184,
     "status": "ok",
     "timestamp": 1750231442350,
     "user": {
      "displayName": "Balaji K",
      "userId": "06165258946999670925"
     },
     "user_tz": -330
    },
    "id": "GcRjhxoZ68aw",
    "outputId": "f62dc116-54d8-48c8-cbbe-122ec7defc6d"
   },
   "outputs": [],
   "source": [
    "model.save('toxic_comment_lstm_model.h5')  # Saves model architecture + weights\n"
   ]
  },
  {
   "cell_type": "code",
   "execution_count": null,
   "metadata": {
    "id": "O2DvQuC87GHT"
   },
   "outputs": [],
   "source": [
    "model.save(\"toxic_comment_lstm_model.keras\")  # Native Keras format\n"
   ]
  },
  {
   "cell_type": "code",
   "execution_count": null,
   "metadata": {
    "colab": {
     "base_uri": "https://localhost:8080/"
    },
    "executionInfo": {
     "elapsed": 2967,
     "status": "ok",
     "timestamp": 1750332768714,
     "user": {
      "displayName": "Balaji K",
      "userId": "06165258946999670925"
     },
     "user_tz": -330
    },
    "id": "W1X9g_727qZd",
    "outputId": "0b32307d-2a97-41fb-af6b-d45e1907555b"
   },
   "outputs": [],
   "source": [
    "# Load libraries\n",
    "import pandas as pd\n",
    "import numpy as np\n",
    "from tensorflow.keras.models import load_model\n",
    "import pickle\n",
    "\n",
    "# Load data\n",
    "df = pd.read_csv(\"cleaned_data.csv\")\n",
    "X_train = np.load(\"X_train.npy\")\n",
    "X_val = np.load(\"X_val.npy\")\n",
    "y_train = np.load(\"y_train.npy\")\n",
    "y_val = np.load(\"y_val.npy\")\n",
    "\n",
    "# Load tokenizer\n",
    "with open('tokenizer.pkl', 'rb') as f:\n",
    "    tokenizer = pickle.load(f)\n",
    "\n",
    "# Load model\n",
    "model = load_model(\"toxic_comment_lstm_model.keras\")\n"
   ]
  },
  {
   "cell_type": "code",
   "execution_count": null,
   "metadata": {
    "id": "f-xThRiT5GNt"
   },
   "outputs": [],
   "source": [
    "X = df['comment_text'].values\n",
    "y = df[['toxic', 'severe_toxic', 'obscene', 'threat', 'insult', 'identity_hate']].values\n"
   ]
  },
  {
   "cell_type": "code",
   "execution_count": null,
   "metadata": {
    "id": "SUnLsleELbp1"
   },
   "outputs": [],
   "source": [
    "from tensorflow.keras.preprocessing.text import Tokenizer\n",
    "from tensorflow.keras.preprocessing.sequence import pad_sequences\n",
    "\n",
    "VOCAB_SIZE = 20000\n",
    "MAX_LEN = 150\n",
    "\n",
    "tokenizer = Tokenizer(num_words=VOCAB_SIZE, oov_token=\"<OOV>\")\n",
    "tokenizer.fit_on_texts(X)\n",
    "X_seq = tokenizer.texts_to_sequences(X)\n",
    "X_pad = pad_sequences(X_seq, maxlen=MAX_LEN, padding='post', truncating='post')\n"
   ]
  },
  {
   "cell_type": "code",
   "execution_count": null,
   "metadata": {
    "id": "LtvK7gvpLey3"
   },
   "outputs": [],
   "source": [
    "from sklearn.model_selection import train_test_split\n",
    "\n",
    "X_train, X_val, y_train, y_val = train_test_split(X_pad, y, test_size=0.3, random_state=42)\n"
   ]
  },
  {
   "cell_type": "code",
   "execution_count": null,
   "metadata": {
    "colab": {
     "base_uri": "https://localhost:8080/",
     "height": 376
    },
    "executionInfo": {
     "elapsed": 153,
     "status": "ok",
     "timestamp": 1750332817974,
     "user": {
      "displayName": "Balaji K",
      "userId": "06165258946999670925"
     },
     "user_tz": -330
    },
    "id": "V3qBM8rDLzIX",
    "outputId": "123d5b87-6e91-4bf4-a575-f8cc082b4153"
   },
   "outputs": [],
   "source": [
    "from tensorflow.keras.models import Sequential\n",
    "from tensorflow.keras.layers import Embedding, LSTM, Dense, Dropout\n",
    "\n",
    "model = Sequential([\n",
    "    Embedding(input_dim=VOCAB_SIZE, output_dim=128, input_length=MAX_LEN),\n",
    "    LSTM(64, return_sequences=False),\n",
    "    Dropout(0.5),\n",
    "    Dense(64, activation='relu'),\n",
    "    Dropout(0.3),\n",
    "    Dense(6, activation='sigmoid')  # 6 outputs\n",
    "])\n",
    "\n",
    "model.compile(loss='binary_crossentropy', optimizer='adam', metrics=['accuracy'])\n",
    "model.summary()\n"
   ]
  },
  {
   "cell_type": "code",
   "execution_count": null,
   "metadata": {
    "colab": {
     "base_uri": "https://localhost:8080/"
    },
    "executionInfo": {
     "elapsed": 1587460,
     "status": "ok",
     "timestamp": 1750334413778,
     "user": {
      "displayName": "Balaji K",
      "userId": "06165258946999670925"
     },
     "user_tz": -330
    },
    "id": "_HSd4re9L3EW",
    "outputId": "4c5f2f5e-739c-4c84-aa04-b98b142f44b6"
   },
   "outputs": [],
   "source": [
    "model.fit(X_train, y_train, epochs=5, batch_size=128, validation_data=(X_val, y_val))\n"
   ]
  },
  {
   "cell_type": "code",
   "execution_count": null,
   "metadata": {
    "colab": {
     "base_uri": "https://localhost:8080/"
    },
    "executionInfo": {
     "elapsed": 38266,
     "status": "ok",
     "timestamp": 1750334457659,
     "user": {
      "displayName": "Balaji K",
      "userId": "06165258946999670925"
     },
     "user_tz": -330
    },
    "id": "TPNhOLwYL7pA",
    "outputId": "367d5fbb-9c4e-4433-8bf4-18f04eb97693"
   },
   "outputs": [],
   "source": [
    "from sklearn.metrics import classification_report\n",
    "\n",
    "y_pred_prob = model.predict(X_val)\n",
    "y_pred = (y_pred_prob > 0.5).astype(int)\n",
    "\n",
    "print(classification_report(y_val, y_pred, target_names=[\n",
    "    'toxic', 'severe_toxic', 'obscene', 'threat', 'insult', 'identity_hate'\n",
    "]))\n"
   ]
  },
  {
   "cell_type": "code",
   "execution_count": null,
   "metadata": {
    "id": "jmOYauYIJwEg"
   },
   "outputs": [],
   "source": [
    "# Save tokenizer\n",
    "with open(\"tokenizer_multilabel.pkl\", \"wb\") as f:\n",
    "    pickle.dump(tokenizer, f)\n",
    "\n",
    "# Save model\n",
    "model.save(\"model_multilabel_lstm.keras\")\n"
   ]
  },
  {
   "cell_type": "code",
   "execution_count": null,
   "metadata": {
    "colab": {
     "base_uri": "https://localhost:8080/"
    },
    "executionInfo": {
     "elapsed": 566,
     "status": "ok",
     "timestamp": 1750332263777,
     "user": {
      "displayName": "Balaji K",
      "userId": "06165258946999670925"
     },
     "user_tz": -330
    },
    "id": "OIqN2AWgLils",
    "outputId": "62d5d738-c4af-415e-b55a-edfda104bfb9"
   },
   "outputs": [],
   "source": [
    "# Load tokenizer\n",
    "with open('tokenizer_multilabel.pkl', 'rb') as f:\n",
    "    tokenizer = pickle.load(f)\n",
    "\n",
    "# Load model\n",
    "model = load_model(\"model_multilabel_lstm.keras\")"
   ]
  },
  {
   "cell_type": "code",
   "execution_count": null,
   "metadata": {
    "id": "1s-56Ilc-lMo"
   },
   "outputs": [],
   "source": [
    "np.save(\"y_train_multilabel.npy\", y_train)\n",
    "np.save(\"y_val_multilabel.npy\", y_val)\n"
   ]
  },
  {
   "cell_type": "markdown",
   "metadata": {
    "id": "4wzLn8xH-ttb"
   },
   "source": [
    "### Load Properly Later"
   ]
  },
  {
   "cell_type": "code",
   "execution_count": null,
   "metadata": {
    "id": "THYELb2j-q_W"
   },
   "outputs": [],
   "source": [
    "y_val = np.load(\"y_val_multilabel.npy\")\n"
   ]
  },
  {
   "cell_type": "code",
   "execution_count": null,
   "metadata": {
    "colab": {
     "base_uri": "https://localhost:8080/"
    },
    "executionInfo": {
     "elapsed": 122,
     "status": "ok",
     "timestamp": 1750334536569,
     "user": {
      "displayName": "Balaji K",
      "userId": "06165258946999670925"
     },
     "user_tz": -330
    },
    "id": "Ls1Bw158M0Da",
    "outputId": "15e3741a-f4e3-4b55-d300-7cc5982c1347"
   },
   "outputs": [],
   "source": [
    "from sklearn.metrics import roc_auc_score\n",
    "\n",
    "# y_val: true multilabel values\n",
    "# y_pred_prob: model probabilities (not thresholded)\n",
    "\n",
    "for i, label in enumerate(['toxic', 'severe_toxic', 'obscene', 'threat', 'insult', 'identity_hate']):\n",
    "    try:\n",
    "        auc = roc_auc_score(y_val[:, i], y_pred_prob[:, i])\n",
    "        print(f\"{label}: ROC-AUC = {auc:.4f}\")\n",
    "    except ValueError:\n",
    "        print(f\"{label}: Not enough positive samples to compute AUC.\")\n"
   ]
  },
  {
   "cell_type": "markdown",
   "metadata": {
    "id": "y_bbJhykOcQJ"
   },
   "source": [
    "| Label              | ROC-AUC | Interpretation                            |\n",
    "| ------------------ | ------- | ----------------------------------------- |\n",
    "| **toxic**          | 0.97    | 🟢 Excellent discrimination               |\n",
    "| **severe\\_toxic**  | 0.99    | 🟢 Almost perfect (even with low recall!) |\n",
    "| **obscene**        | 0.99    | 🟢 Excellent                              |\n",
    "| **threat**         | 0.95    | 🟢 Strong separation (rare class!)        |\n",
    "| **insult**         | 0.98    | 🟢 Excellent                              |\n",
    "| **identity\\_hate** | 0.96    | 🟢 Very good (despite F1 = 0)             |\n",
    "\n"
   ]
  },
  {
   "cell_type": "markdown",
   "metadata": {
    "id": "sD8gk18jFNoO"
   },
   "source": [
    "# CNN Architecture (Text Classification Style)"
   ]
  },
  {
   "cell_type": "code",
   "execution_count": null,
   "metadata": {
    "colab": {
     "base_uri": "https://localhost:8080/",
     "height": 424
    },
    "executionInfo": {
     "elapsed": 69,
     "status": "ok",
     "timestamp": 1750334789165,
     "user": {
      "displayName": "Balaji K",
      "userId": "06165258946999670925"
     },
     "user_tz": -330
    },
    "id": "opxayAYiM0el",
    "outputId": "d14f7744-d241-4f4f-ed50-b74589064d35"
   },
   "outputs": [],
   "source": [
    "from tensorflow.keras.models import Sequential\n",
    "from tensorflow.keras.layers import Embedding, Conv1D, GlobalMaxPooling1D, Dense, Dropout\n",
    "\n",
    "VOCAB_SIZE = 20000\n",
    "MAX_LEN = 150\n",
    "EMBEDDING_DIM = 128\n",
    "\n",
    "model = Sequential([\n",
    "    Embedding(input_dim=VOCAB_SIZE, output_dim=EMBEDDING_DIM, input_length=MAX_LEN),\n",
    "    Conv1D(128, kernel_size=5, activation='relu'),\n",
    "    GlobalMaxPooling1D(),\n",
    "    Dropout(0.5),\n",
    "    Dense(64, activation='relu'),\n",
    "    Dropout(0.3),\n",
    "    Dense(6, activation='sigmoid')  # Multilabel output\n",
    "])\n",
    "\n",
    "model.compile(loss='binary_crossentropy', optimizer='adam', metrics=['accuracy'])\n",
    "model.summary()\n"
   ]
  },
  {
   "cell_type": "code",
   "execution_count": null,
   "metadata": {
    "colab": {
     "base_uri": "https://localhost:8080/"
    },
    "executionInfo": {
     "elapsed": 196528,
     "status": "ok",
     "timestamp": 1750336050017,
     "user": {
      "displayName": "Balaji K",
      "userId": "06165258946999670925"
     },
     "user_tz": -330
    },
    "id": "8DWBbadKFVSj",
    "outputId": "cae38330-9427-44ce-e76f-ada26b8fb0f7"
   },
   "outputs": [],
   "source": [
    "history = model.fit(\n",
    "    X_train, y_train,\n",
    "    epochs=5,\n",
    "    batch_size=128,\n",
    "    validation_data=(X_val, y_val)\n",
    ")\n"
   ]
  },
  {
   "cell_type": "code",
   "execution_count": null,
   "metadata": {
    "colab": {
     "base_uri": "https://localhost:8080/"
    },
    "executionInfo": {
     "elapsed": 40711,
     "status": "ok",
     "timestamp": 1750336544918,
     "user": {
      "displayName": "Balaji K",
      "userId": "06165258946999670925"
     },
     "user_tz": -330
    },
    "id": "nkY8G-RSFZ2I",
    "outputId": "a2b4088b-726d-47d6-db8e-96b9cec94957"
   },
   "outputs": [],
   "source": [
    "from sklearn.metrics import classification_report, roc_auc_score\n",
    "\n",
    "y_pred_probs = model.predict(X_val)\n",
    "y_pred = (y_pred_probs > 0.5).astype(int)"
   ]
  },
  {
   "cell_type": "code",
   "execution_count": null,
   "metadata": {
    "colab": {
     "base_uri": "https://localhost:8080/"
    },
    "executionInfo": {
     "elapsed": 50,
     "status": "ok",
     "timestamp": 1750336557137,
     "user": {
      "displayName": "Balaji K",
      "userId": "06165258946999670925"
     },
     "user_tz": -330
    },
    "id": "87Rfk0I-L367",
    "outputId": "a3e2b543-13a1-4636-c0a5-d9dd7fedffb4"
   },
   "outputs": [],
   "source": [
    "# Classification report\n",
    "print(classification_report(\n",
    "    y_val,\n",
    "    y_pred,\n",
    "    target_names=['toxic', 'severe_toxic', 'obscene', 'threat', 'insult', 'identity_hate']\n",
    "))"
   ]
  },
  {
   "cell_type": "code",
   "execution_count": null,
   "metadata": {
    "colab": {
     "base_uri": "https://localhost:8080/"
    },
    "executionInfo": {
     "elapsed": 10254,
     "status": "ok",
     "timestamp": 1750336587359,
     "user": {
      "displayName": "Balaji K",
      "userId": "06165258946999670925"
     },
     "user_tz": -330
    },
    "id": "DZG630H7ME7R",
    "outputId": "d87e1aa7-41af-44ff-9ddc-5508c405b3e8"
   },
   "outputs": [],
   "source": [
    "# ROC-AUC\n",
    "for i, label in enumerate(['toxic', 'severe_toxic', 'obscene', 'threat', 'insult', 'identity_hate']):\n",
    "    try:\n",
    "        auc = roc_auc_score(y_val[:, i], y_pred_probs[:, i])\n",
    "        print(f\"{label}: ROC-AUC = {auc:.4f}\")\n",
    "    except:\n",
    "        print(f\"{label}: Not enough positive samples\")"
   ]
  },
  {
   "cell_type": "markdown",
   "metadata": {
    "id": "K75MbIHMMuLC"
   },
   "source": [
    "| Label          | F1-Score (CNN) | F1-Score (LSTM) | ROC-AUC (CNN) | ROC-AUC (LSTM) |\n",
    "| -------------- | -------------- | --------------- | ------------- | -------------- |\n",
    "| toxic          | **0.77**       | 0.78            | 0.9592        | 0.9697         |\n",
    "| severe\\_toxic  | **0.37**       | 0.09            | 0.9865        | 0.9884         |\n",
    "| obscene        | **0.78**       | 0.77            | 0.9852        | 0.9866         |\n",
    "| threat         | 0.00           | 0.00            | 0.9578        | 0.9484         |\n",
    "| insult         | **0.70**       | 0.67            | 0.9769        | 0.9800         |\n",
    "| identity\\_hate | 0.00           | 0.00            | 0.9468        | 0.9583         |\n"
   ]
  },
  {
   "cell_type": "markdown",
   "metadata": {
    "id": "QxnvL37yM1MB"
   },
   "source": [
    "🔹 CNN slightly outperforms LSTM in:\n",
    "severe_toxic (much better F1!)\n",
    "\n",
    "obscene and insult (small gain)\n",
    "\n",
    "🔹 Both models struggle with:\n",
    "threat\n",
    "\n",
    "identity_hate\n",
    "\n",
    "(but ROC-AUC shows the model can rank those correctly — just not thresholded well)"
   ]
  },
  {
   "cell_type": "markdown",
   "metadata": {
    "id": "LidFwoqsM_L-"
   },
   "source": [
    "## We experimented with LSTM and CNN. CNN showed better recall and F1 in more toxic categories"
   ]
  },
  {
   "cell_type": "code",
   "execution_count": null,
   "metadata": {
    "colab": {
     "base_uri": "https://localhost:8080/",
     "height": 219
    },
    "executionInfo": {
     "elapsed": 94,
     "status": "ok",
     "timestamp": 1750338804385,
     "user": {
      "displayName": "Balaji K",
      "userId": "06165258946999670925"
     },
     "user_tz": -330
    },
    "id": "s5psuqz8MJzv",
    "outputId": "4f0a5773-a520-485c-f339-1ae886ab4dfd"
   },
   "outputs": [],
   "source": [
    "df.head(2)"
   ]
  },
  {
   "cell_type": "markdown",
   "metadata": {
    "id": "T0sAGCFEWNoq"
   },
   "source": [
    "##  Multilabel BERT-based toxicity detector using 🤗 Hugging Face + Pytorch"
   ]
  },
  {
   "cell_type": "code",
   "execution_count": null,
   "metadata": {
    "id": "CCcRKonTUmli"
   },
   "outputs": [],
   "source": [
    "import pandas as pd\n",
    "\n",
    "df = pd.read_csv(\"/content/train (1).csv\")\n",
    "df['comment_text'] = df['comment_text'].astype(str)"
   ]
  },
  {
   "cell_type": "code",
   "execution_count": null,
   "metadata": {
    "colab": {
     "base_uri": "https://localhost:8080/",
     "height": 206
    },
    "executionInfo": {
     "elapsed": 25,
     "status": "ok",
     "timestamp": 1750423303994,
     "user": {
      "displayName": "Balaji K",
      "userId": "06165258946999670925"
     },
     "user_tz": -330
    },
    "id": "n5ovhCGZVxrs",
    "outputId": "d08e1981-ae8b-4a7c-ae71-af99fc1bf700"
   },
   "outputs": [],
   "source": [
    "df.head()"
   ]
  },
  {
   "cell_type": "code",
   "execution_count": null,
   "metadata": {
    "colab": {
     "base_uri": "https://localhost:8080/",
     "height": 145,
     "referenced_widgets": [
      "5f1b9c9836664298a5dd7d175d785329",
      "c70683494721424b94ccc078a64ae707",
      "9c72286e06c64ed4a475ad4292276860",
      "458e81f0db074311aa867efc80853afa",
      "4a8b6c58179c4abda0bf2442510df6c4",
      "173697bd62914e19b52f17c8d20d674e",
      "8074199fca1f4d0daff82ae32ce720b0",
      "2716f3f5b2c048d3869a4d9dc0b27632",
      "075ee38cfe524d259a851cc52416c32b",
      "5bf3a6d8c2e14c59a9f0a94296ecf8b1",
      "066c4ff86ebf40a2b900685fef35cb89",
      "d00787e78f054435ad8377bc72942e1c",
      "9006af06cdbd4597a5d036f9b5c42e0a",
      "b5490b1e8d25466494360cc6f6860548",
      "a63b99ae1b134d1a8d58b6ae00c644fb",
      "dd5e92cc141c488e9373f4fcf7cdb698",
      "1ddb38adbb5d402fa7d42ff596dcca6b",
      "300d6eab8010428d8b935a3f44ccdc49",
      "4c64e5d4485e4f3f80a15df154541479",
      "b1dac59dbb2a4694a0b11979e76452cc",
      "6196ec08acc7461da2924c370bbb41eb",
      "60e88c56d6384dafaac95f088d531beb",
      "418128fb4bd0473a8de75c5c2a14a076",
      "7560539d47f04046b2fb52c234ebac0f",
      "0d367b86c4664de099bb445a1cc79fb8",
      "31eb263bf6dd43c9b6a8bc804e22febf",
      "bc92b48da5c549c6b5972bfb867e4298",
      "ec746dc28b114d99a9ccecfecf70715f",
      "8ec1f749b3724ea688406940748cab67",
      "9fc62654f80049c4838914e7b69152f9",
      "ad33052ab2ca40f79d7a1ecea3524720",
      "f0a3477564264415a6c88655c46b5709",
      "21d7a1d22d39465c9c6d3d789e9d52c9",
      "1b29c070b52143ec99a9ffeaefb05606",
      "67fb3d55aecf4af89e5efb8b98e0291c",
      "bf48fe067dd54537b9bbb8c1c46a2533",
      "9fa76954b22047668d4a29d662c36250",
      "5c609b694f2b4df09638a323d1004cb3",
      "f32180327b5542f3b5c9d5986edf7a23",
      "d3ac446fde734a70a14fc934e8f35d6c",
      "1e8c1c4e64b74451a3e4c557a6aeb4f3",
      "340b88c0694e4e2d9150ccd78cfd6fa1",
      "99a1f331b0d042e58eb26ed6481f26cb",
      "3006b38fd83c49af853ed4ad39cdccb0"
     ]
    },
    "executionInfo": {
     "elapsed": 223762,
     "status": "ok",
     "timestamp": 1750511669522,
     "user": {
      "displayName": "Balaji K",
      "userId": "06165258946999670925"
     },
     "user_tz": -330
    },
    "id": "Rtyaf65FXAg9",
    "outputId": "2b4c7543-007a-4b3b-e975-98ca13c38026"
   },
   "outputs": [],
   "source": [
    "import pandas as pd\n",
    "from datasets import Dataset\n",
    "from transformers import BertTokenizer\n",
    "\n",
    "# Prepare dataset\n",
    "df['labels'] = df[['toxic', 'severe_toxic', 'obscene', 'threat', 'insult', 'identity_hate']].values.tolist()\n",
    "hf_dataset = Dataset.from_pandas(df[['comment_text', 'labels']])\n",
    "\n",
    "# Tokenizer\n",
    "tokenizer = BertTokenizer.from_pretrained('bert-base-uncased')\n",
    "\n",
    "def tokenize_function(example):\n",
    "    return tokenizer(example['comment_text'], truncation=True, padding='max_length', max_length=128)\n",
    "\n",
    "# Tokenize and store in tokenized_dataset\n",
    "tokenized_dataset = hf_dataset.map(tokenize_function, batched=True)\n"
   ]
  },
  {
   "cell_type": "code",
   "execution_count": null,
   "metadata": {
    "id": "gZAZmoiNX6-O"
   },
   "outputs": [],
   "source": [
    "split_data = tokenized_dataset.train_test_split(test_size=0.2, seed=42)\n",
    "train_hf = split_data['train']\n",
    "val_hf = split_data['test']\n"
   ]
  },
  {
   "cell_type": "code",
   "execution_count": null,
   "metadata": {
    "id": "LZ5se2uZX-pr"
   },
   "outputs": [],
   "source": [
    "import torch\n",
    "from torch.utils.data import Dataset\n",
    "\n",
    "class ToxicCommentsDataset(Dataset):\n",
    "    def __init__(self, hf_dataset):\n",
    "        self.input_ids = torch.tensor(hf_dataset['input_ids'])\n",
    "        self.attention_mask = torch.tensor(hf_dataset['attention_mask'])\n",
    "        self.labels = torch.tensor(hf_dataset['labels'], dtype=torch.float32)\n",
    "\n",
    "    def __len__(self):\n",
    "        return len(self.input_ids)\n",
    "\n",
    "    def __getitem__(self, idx):\n",
    "        return {\n",
    "            'input_ids': self.input_ids[idx],\n",
    "            'attention_mask': self.attention_mask[idx],\n",
    "            'labels': self.labels[idx]\n",
    "        }\n"
   ]
  },
  {
   "cell_type": "code",
   "execution_count": null,
   "metadata": {
    "id": "J5oX_nVCYDfv"
   },
   "outputs": [],
   "source": [
    "from torch.utils.data import DataLoader\n",
    "\n",
    "train_ds = ToxicCommentsDataset(train_hf)\n",
    "val_ds = ToxicCommentsDataset(val_hf)\n",
    "\n",
    "train_loader = DataLoader(train_ds, batch_size=16, shuffle=True)\n",
    "val_loader = DataLoader(val_ds, batch_size=16)\n"
   ]
  },
  {
   "cell_type": "markdown",
   "metadata": {
    "id": "mSBWLuFuM6uk"
   },
   "source": [
    "## First Epoch"
   ]
  },
  {
   "cell_type": "code",
   "execution_count": null,
   "metadata": {
    "id": "JVAy_40KYVZU"
   },
   "outputs": [],
   "source": [
    "for batch in train_loader:\n",
    "    input_ids = batch['input_ids'].to(device)\n",
    "    attention_mask = batch['attention_mask'].to(device)\n",
    "    labels = batch['labels'].to(device)\n",
    "\n",
    "    optimizer.zero_grad()\n",
    "    logits = model(input_ids=input_ids, attention_mask=attention_mask)\n",
    "    loss = criterion(logits, labels)\n",
    "    loss.backward()\n",
    "    optimizer.step()\n"
   ]
  },
  {
   "cell_type": "code",
   "execution_count": null,
   "metadata": {
    "colab": {
     "base_uri": "https://localhost:8080/"
    },
    "executionInfo": {
     "elapsed": 140308,
     "status": "ok",
     "timestamp": 1750427060672,
     "user": {
      "displayName": "Balaji K",
      "userId": "06165258946999670925"
     },
     "user_tz": -330
    },
    "id": "IZAk427wkiXg",
    "outputId": "4a30dc3b-8a61-4b40-f446-741d5d3cc0c2"
   },
   "outputs": [],
   "source": [
    "from sklearn.metrics import classification_report, roc_auc_score\n",
    "import numpy as np\n",
    "\n",
    "model.eval()\n",
    "all_preds = []\n",
    "all_labels = []\n",
    "\n",
    "with torch.no_grad():\n",
    "    for batch in val_loader:\n",
    "        input_ids = batch['input_ids'].to(device)\n",
    "        attention_mask = batch['attention_mask'].to(device)\n",
    "        labels = batch['labels'].to(device)\n",
    "\n",
    "        logits = model(input_ids=input_ids, attention_mask=attention_mask)\n",
    "        probs = torch.sigmoid(logits).cpu().numpy()\n",
    "        all_preds.append(probs)\n",
    "        all_labels.append(labels.cpu().numpy())\n",
    "\n",
    "# Convert to arrays\n",
    "y_true = np.vstack(all_labels)\n",
    "y_pred = np.vstack(all_preds)\n",
    "y_pred_bin = (y_pred > 0.5).astype(int)\n",
    "\n",
    "# Classification report\n",
    "print(\"\\n📋 Classification Report:\\n\")\n",
    "print(classification_report(y_true, y_pred_bin, target_names=[\n",
    "    'toxic', 'severe_toxic', 'obscene', 'threat', 'insult', 'identity_hate'\n",
    "]))\n",
    "\n",
    "# ROC-AUC for each label\n",
    "print(\"\\n📈 ROC-AUC Scores:\")\n",
    "for i, label in enumerate(['toxic', 'severe_toxic', 'obscene', 'threat', 'insult', 'identity_hate']):\n",
    "    score = roc_auc_score(y_true[:, i], y_pred[:, i])\n",
    "    print(f\"{label}: {score:.4f}\")\n"
   ]
  },
  {
   "cell_type": "code",
   "execution_count": null,
   "metadata": {
    "colab": {
     "base_uri": "https://localhost:8080/"
    },
    "executionInfo": {
     "elapsed": 2886,
     "status": "ok",
     "timestamp": 1750427124448,
     "user": {
      "displayName": "Balaji K",
      "userId": "06165258946999670925"
     },
     "user_tz": -330
    },
    "id": "v-bTBAJXlhya",
    "outputId": "0666a6a5-1a5c-465f-8f18-8448d07866ac"
   },
   "outputs": [],
   "source": [
    "# Save model\n",
    "torch.save(model.state_dict(), \"bert_multilabel_epoch1.pth\")\n",
    "\n",
    "# Save tokenizer\n",
    "tokenizer.save_pretrained(\"bert_tokenizer/\")\n"
   ]
  },
  {
   "cell_type": "code",
   "execution_count": null,
   "metadata": {
    "colab": {
     "base_uri": "https://localhost:8080/",
     "height": 36
    },
    "executionInfo": {
     "elapsed": 61,
     "status": "ok",
     "timestamp": 1750510441082,
     "user": {
      "displayName": "Balaji K",
      "userId": "06165258946999670925"
     },
     "user_tz": -330
    },
    "id": "iUuecOK4fNhK",
    "outputId": "16167be5-bcf2-4749-f1e3-2d9b44a516a8"
   },
   "outputs": [],
   "source": [
    "import os\n",
    "\n",
    "# Make the folder\n",
    "os.makedirs(\"bert_tokenizer\", exist_ok=True)\n",
    "\n",
    "# Move uploaded files into it\n",
    "import shutil\n",
    "shutil.move(\"vocab.txt\", \"bert_tokenizer/vocab.txt\")\n",
    "shutil.move(\"tokenizer_config.json\", \"bert_tokenizer/tokenizer_config.json\")\n",
    "shutil.move(\"special_tokens_map.json\", \"bert_tokenizer/special_tokens_map.json\")\n"
   ]
  },
  {
   "cell_type": "code",
   "execution_count": null,
   "metadata": {
    "id": "OLMdg8EhjfOr"
   },
   "outputs": [],
   "source": [
    "from transformers import BertTokenizer\n",
    "\n",
    "tokenizer = BertTokenizer.from_pretrained(\"bert_tokenizer/\")\n"
   ]
  },
  {
   "cell_type": "code",
   "execution_count": null,
   "metadata": {
    "id": "Ylbtt894jfsF"
   },
   "outputs": [],
   "source": [
    "import torch\n",
    "import torch.nn as nn\n",
    "from transformers import BertModel\n",
    "\n",
    "class BertMultilabelClassifier(nn.Module):\n",
    "    def __init__(self, num_labels=6):\n",
    "        super(BertMultilabelClassifier, self).__init__()\n",
    "        self.bert = BertModel.from_pretrained('bert-base-uncased')\n",
    "        self.dropout = nn.Dropout(0.3)\n",
    "        self.classifier = nn.Linear(self.bert.config.hidden_size, num_labels)\n",
    "\n",
    "    def forward(self, input_ids, attention_mask):\n",
    "        outputs = self.bert(input_ids=input_ids, attention_mask=attention_mask)\n",
    "        pooled_output = outputs.pooler_output\n",
    "        pooled_output = self.dropout(pooled_output)\n",
    "        return self.classifier(pooled_output)\n"
   ]
  },
  {
   "cell_type": "code",
   "execution_count": null,
   "metadata": {
    "colab": {
     "base_uri": "https://localhost:8080/"
    },
    "executionInfo": {
     "elapsed": 1306,
     "status": "ok",
     "timestamp": 1750510811379,
     "user": {
      "displayName": "Balaji K",
      "userId": "06165258946999670925"
     },
     "user_tz": -330
    },
    "id": "tdi5F3QujpKZ",
    "outputId": "9e7498c3-dd4a-403f-8579-c788f26e84c1"
   },
   "outputs": [],
   "source": [
    "device = torch.device(\"cuda\" if torch.cuda.is_available() else \"cpu\")\n",
    "\n",
    "model = BertMultilabelClassifier(num_labels=6)\n",
    "model.load_state_dict(torch.load(\"bert_multilabel_epoch1.pth\", map_location=device))\n",
    "model.to(device)\n",
    "model.eval()\n"
   ]
  },
  {
   "cell_type": "code",
   "execution_count": null,
   "metadata": {
    "id": "dmckD91nkv1p"
   },
   "outputs": [],
   "source": [
    "def predict_comment(text):\n",
    "    encoded = tokenizer(\n",
    "        text,\n",
    "        return_tensors=\"pt\",\n",
    "        truncation=True,\n",
    "        padding=\"max_length\",\n",
    "        max_length=128\n",
    "    )\n",
    "\n",
    "    # Remove token_type_ids if exists\n",
    "    encoded.pop(\"token_type_ids\", None)\n",
    "\n",
    "    # Move tensors to device\n",
    "    inputs = {k: v.to(device) for k, v in encoded.items()}\n",
    "\n",
    "    with torch.no_grad():\n",
    "        logits = model(**inputs)\n",
    "        probs = torch.sigmoid(logits).cpu().numpy()[0]\n",
    "\n",
    "    labels = ['toxic', 'severe_toxic', 'obscene', 'threat', 'insult', 'identity_hate']\n",
    "    return dict(zip(labels, probs.round(3)))\n"
   ]
  },
  {
   "cell_type": "code",
   "execution_count": null,
   "metadata": {
    "colab": {
     "base_uri": "https://localhost:8080/"
    },
    "executionInfo": {
     "elapsed": 638,
     "status": "ok",
     "timestamp": 1750510823583,
     "user": {
      "displayName": "Balaji K",
      "userId": "06165258946999670925"
     },
     "user_tz": -330
    },
    "id": "hYFejMG2kMx1",
    "outputId": "1a26cf3d-b5ca-421c-ebf0-0a1ed5ab8350"
   },
   "outputs": [],
   "source": [
    "predict_comment(\"You are a disgusting liar and a disgrace!\")\n"
   ]
  },
  {
   "cell_type": "code",
   "execution_count": null,
   "metadata": {
    "colab": {
     "base_uri": "https://localhost:8080/"
    },
    "executionInfo": {
     "elapsed": 1530,
     "status": "ok",
     "timestamp": 1750511247564,
     "user": {
      "displayName": "Balaji K",
      "userId": "06165258946999670925"
     },
     "user_tz": -330
    },
    "id": "K7izagzDkPZ6",
    "outputId": "a1bb3e80-b1bd-441c-dab6-3bcc38c5dea8"
   },
   "outputs": [],
   "source": [
    "model = BertMultilabelClassifier(num_labels=6)\n",
    "model.load_state_dict(torch.load(\"bert_multilabel_epoch1.pth\", map_location=device))\n",
    "model.to(device)\n",
    "model.train()\n"
   ]
  },
  {
   "cell_type": "code",
   "execution_count": null,
   "metadata": {
    "id": "9pesSZBxo58_"
   },
   "outputs": [],
   "source": [
    "model = BertMultilabelClassifier(num_labels=6)\n",
    "model.load_state_dict(torch.load(\"bert_multilabel_epoch1.pth\", map_location=device))\n",
    "model.to(device)\n",
    "\n",
    "from torch.optim import AdamW\n",
    "optimizer = AdamW(model.parameters(), lr=2e-5, weight_decay=0.01)\n",
    "\n",
    "import torch.nn as nn\n",
    "criterion = nn.BCEWithLogitsLoss()\n"
   ]
  },
  {
   "cell_type": "code",
   "execution_count": null,
   "metadata": {
    "colab": {
     "base_uri": "https://localhost:8080/"
    },
    "executionInfo": {
     "elapsed": 5373316,
     "status": "ok",
     "timestamp": 1750517268376,
     "user": {
      "displayName": "Balaji K",
      "userId": "06165258946999670925"
     },
     "user_tz": -330
    },
    "id": "Ei_l-mzLmdmo",
    "outputId": "bb4625d2-83a8-4358-99cb-1c2affd9ca26"
   },
   "outputs": [],
   "source": [
    "num_epochs = 3  # total epochs\n",
    "start_epoch = 1  # since we've already done epoch 1\n",
    "\n",
    "for epoch in range(start_epoch, num_epochs):\n",
    "    print(f\"\\n🔁 Epoch {epoch + 1}/{num_epochs}\")\n",
    "    total_loss = 0\n",
    "\n",
    "    model.train()\n",
    "    for batch in train_loader:\n",
    "        input_ids = batch['input_ids'].to(device)\n",
    "        attention_mask = batch['attention_mask'].to(device)\n",
    "        labels = batch['labels'].to(device)\n",
    "\n",
    "        optimizer.zero_grad()\n",
    "        logits = model(input_ids=input_ids, attention_mask=attention_mask)\n",
    "        loss = criterion(logits, labels)\n",
    "        loss.backward()\n",
    "        optimizer.step()\n",
    "\n",
    "        total_loss += loss.item()\n",
    "\n",
    "    avg_loss = total_loss / len(train_loader)\n",
    "    print(f\"📉 Training Loss (epoch {epoch + 1}): {avg_loss:.4f}\")\n",
    "\n",
    "    # ✅ Save model after each epoch\n",
    "    model_filename = f\"bert_multilabel_epoch{epoch + 1}.pth\"\n",
    "    torch.save(model.state_dict(), model_filename)\n",
    "    print(f\"💾 Saved model: {model_filename}\")\n"
   ]
  },
  {
   "cell_type": "code",
   "execution_count": null,
   "metadata": {
    "colab": {
     "base_uri": "https://localhost:8080/"
    },
    "executionInfo": {
     "elapsed": 1029,
     "status": "ok",
     "timestamp": 1750520239825,
     "user": {
      "displayName": "Balaji K",
      "userId": "06165258946999670925"
     },
     "user_tz": -330
    },
    "id": "vphsFMe3mu7E",
    "outputId": "9824ef4b-4a5e-46e1-bb2f-6cff917de489"
   },
   "outputs": [],
   "source": [
    "# Load model from epoch 2\n",
    "model.load_state_dict(torch.load(\"bert_multilabel_epoch2.pth\"))\n",
    "model.eval()\n"
   ]
  },
  {
   "cell_type": "code",
   "execution_count": null,
   "metadata": {
    "colab": {
     "base_uri": "https://localhost:8080/"
    },
    "executionInfo": {
     "elapsed": 221292,
     "status": "ok",
     "timestamp": 1750520472584,
     "user": {
      "displayName": "Balaji K",
      "userId": "06165258946999670925"
     },
     "user_tz": -330
    },
    "id": "CQcvc9BkIxFp",
    "outputId": "bc4ed1ec-3010-4c4b-ccd4-d9e71d76b6cc"
   },
   "outputs": [],
   "source": [
    "from sklearn.metrics import classification_report, roc_auc_score\n",
    "\n",
    "# Make predictions\n",
    "all_preds = []\n",
    "all_labels = []\n",
    "\n",
    "model.eval()\n",
    "for batch in val_loader:\n",
    "    input_ids = batch['input_ids'].to(device)\n",
    "    attention_mask = batch['attention_mask'].to(device)\n",
    "    labels = batch['labels'].cpu().numpy()\n",
    "    with torch.no_grad():\n",
    "        logits = model(input_ids=input_ids, attention_mask=attention_mask)\n",
    "        probs = torch.sigmoid(logits).cpu().numpy()\n",
    "\n",
    "    all_preds.append(probs)\n",
    "    all_labels.append(labels)\n",
    "\n",
    "# Stack all predictions\n",
    "import numpy as np\n",
    "y_true = np.vstack(all_labels)\n",
    "y_pred = np.vstack(all_preds)\n",
    "\n",
    "# Classification report\n",
    "y_pred_bin = (y_pred > 0.5).astype(int)\n",
    "print(classification_report(y_true, y_pred_bin, target_names=['toxic', 'severe_toxic', 'obscene', 'threat', 'insult', 'identity_hate']))\n",
    "\n",
    "# ROC-AUC scores\n",
    "for i, label in enumerate(['toxic', 'severe_toxic', 'obscene', 'threat', 'insult', 'identity_hate']):\n",
    "    score = roc_auc_score(y_true[:, i], y_pred[:, i])\n",
    "    print(f\"{label}: ROC-AUC = {score:.4f}\")\n"
   ]
  },
  {
   "cell_type": "code",
   "execution_count": null,
   "metadata": {
    "colab": {
     "base_uri": "https://localhost:8080/"
    },
    "executionInfo": {
     "elapsed": 625,
     "status": "ok",
     "timestamp": 1750520520813,
     "user": {
      "displayName": "Balaji K",
      "userId": "06165258946999670925"
     },
     "user_tz": -330
    },
    "id": "zhovsRaeI0Ht",
    "outputId": "861b72c6-0bad-4552-c765-7d2737592c58"
   },
   "outputs": [],
   "source": [
    "# Load model from epoch 3\n",
    "model.load_state_dict(torch.load(\"bert_multilabel_epoch3.pth\"))\n",
    "model.eval()\n"
   ]
  },
  {
   "cell_type": "code",
   "execution_count": null,
   "metadata": {
    "colab": {
     "base_uri": "https://localhost:8080/"
    },
    "executionInfo": {
     "elapsed": 219376,
     "status": "ok",
     "timestamp": 1750520751749,
     "user": {
      "displayName": "Balaji K",
      "userId": "06165258946999670925"
     },
     "user_tz": -330
    },
    "id": "tFDvo7TvJ4Z0",
    "outputId": "8f642ae5-0e42-4e0a-9904-e4339ef25d02"
   },
   "outputs": [],
   "source": [
    "from sklearn.metrics import classification_report, roc_auc_score\n",
    "\n",
    "# Make predictions\n",
    "all_preds = []\n",
    "all_labels = []\n",
    "\n",
    "model.eval()\n",
    "for batch in val_loader:\n",
    "    input_ids = batch['input_ids'].to(device)\n",
    "    attention_mask = batch['attention_mask'].to(device)\n",
    "    labels = batch['labels'].cpu().numpy()\n",
    "    with torch.no_grad():\n",
    "        logits = model(input_ids=input_ids, attention_mask=attention_mask)\n",
    "        probs = torch.sigmoid(logits).cpu().numpy()\n",
    "\n",
    "    all_preds.append(probs)\n",
    "    all_labels.append(labels)\n",
    "\n",
    "# Stack all predictions\n",
    "import numpy as np\n",
    "y_true = np.vstack(all_labels)\n",
    "y_pred = np.vstack(all_preds)\n",
    "\n",
    "# Classification report\n",
    "y_pred_bin = (y_pred > 0.5).astype(int)\n",
    "print(classification_report(y_true, y_pred_bin, target_names=['toxic', 'severe_toxic', 'obscene', 'threat', 'insult', 'identity_hate']))\n",
    "\n",
    "# ROC-AUC scores\n",
    "for i, label in enumerate(['toxic', 'severe_toxic', 'obscene', 'threat', 'insult', 'identity_hate']):\n",
    "    score = roc_auc_score(y_true[:, i], y_pred[:, i])\n",
    "    print(f\"{label}: ROC-AUC = {score:.4f}\")\n"
   ]
  },
  {
   "cell_type": "code",
   "execution_count": null,
   "metadata": {
    "id": "JZ2dmIg6J4vV"
   },
   "outputs": [],
   "source": [
    "# Rename epoch 3 model for final use\n",
    "!mv bert_multilabel_epoch3.pth bert_multilabel_best.pth\n"
   ]
  },
  {
   "cell_type": "code",
   "execution_count": null,
   "metadata": {
    "id": "4N-c-UBmLQw7"
   },
   "outputs": [],
   "source": [
    "torch.save(model.state_dict(), \"bert_multilabel_best.pth\")\n"
   ]
  },
  {
   "cell_type": "markdown",
   "metadata": {
    "id": "WduwKdnfLdrk"
   },
   "source": [
    "# Log Final Report\n",
    "\n",
    "The final model was selected from epoch 3, as it showed improved recall and F1-score on minority classes like severe_toxic and threat, while maintaining strong overall performance. The macro F1-score increased to 0.67 and ROC-AUC scores remained consistently above 0.98 for all labels"
   ]
  },
  {
   "cell_type": "code",
   "execution_count": null,
   "metadata": {
    "id": "eAmMcu1YLTsi"
   },
   "outputs": [],
   "source": [
    "labels = ['toxic', 'severe_toxic', 'obscene', 'threat', 'insult', 'identity_hate']\n"
   ]
  },
  {
   "cell_type": "code",
   "execution_count": null,
   "metadata": {
    "id": "nQ4Ywiu-MH4i"
   },
   "outputs": [],
   "source": [
    "import json\n",
    "\n",
    "with open(\"label_list.json\", \"w\") as f:\n",
    "    json.dump(labels, f)\n"
   ]
  },
  {
   "cell_type": "code",
   "execution_count": null,
   "metadata": {
    "id": "NVE4M2QPMLB5"
   },
   "outputs": [],
   "source": [
    "training_config = {\n",
    "    \"model_name\": \"bert-base-uncased\",\n",
    "    \"max_len\": 128,\n",
    "    \"batch_size\": 32,\n",
    "    \"learning_rate\": 2e-5,\n",
    "    \"epochs\": 3,\n",
    "}\n",
    "with open(\"training_config.json\", \"w\") as f:\n",
    "    json.dump(training_config, f)\n"
   ]
  }
 ],
 "metadata": {
  "colab": {
   "authorship_tag": "ABX9TyOfZVszvvZJqdVqPeBmhUtv",
   "mount_file_id": "1VUaShBOZa4n-wnKrhjywpgTUL527TFJR",
   "provenance": []
  },
  "kernelspec": {
   "display_name": "Python 3",
   "name": "python3"
  },
  "language_info": {
   "name": "python"
  }
 },
 "nbformat": 4,
 "nbformat_minor": 0
}
